{
 "cells": [
  {
   "cell_type": "markdown",
   "metadata": {},
   "source": [
    "# 反爬：登入授權模擬\n",
    "\n",
    "* 了解「登入權限機制」的反爬蟲機制\n",
    "* 「登入權限機制」反爬蟲的因應策略"
   ]
  },
  {
   "cell_type": "markdown",
   "metadata": {},
   "source": [
    "## 作業目標\n",
    "\n",
    "* 找一個需要登入的網站試試看，並說明思考流程\n",
    "（如果不知道要用哪個網站的話，可以試試看 https://github.com/new 網址，未登入時會被導向登入頁）\n",
    "\n"
   ]
  },
  {
   "cell_type": "code",
   "execution_count": 1,
   "metadata": {},
   "outputs": [],
   "source": [
    "import requests\n",
    "from bs4 import BeautifulSoup"
   ]
  },
  {
   "cell_type": "code",
   "execution_count": 2,
   "metadata": {},
   "outputs": [
    {
     "name": "stderr",
     "output_type": "stream",
     "text": [
      "C:\\Users\\User\\Anaconda3\\lib\\site-packages\\urllib3\\connectionpool.py:847: InsecureRequestWarning: Unverified HTTPS request is being made. Adding certificate verification is strongly advised. See: https://urllib3.readthedocs.io/en/latest/advanced-usage.html#ssl-warnings\n",
      "  InsecureRequestWarning)\n",
      "C:\\Users\\User\\Anaconda3\\lib\\site-packages\\urllib3\\connectionpool.py:847: InsecureRequestWarning: Unverified HTTPS request is being made. Adding certificate verification is strongly advised. See: https://urllib3.readthedocs.io/en/latest/advanced-usage.html#ssl-warnings\n",
      "  InsecureRequestWarning)\n"
     ]
    },
    {
     "name": "stdout",
     "output_type": "stream",
     "text": [
      "Sign in to GitHub · GitHubSkip to content Sign in to GitHub          Username or email address                  Password Forgot password?        New to GitHub?        Create an account.      TermsPrivacySecurityContact GitHub    You can’t perform that action at this time.  You signed in with another tab or window. Reload to refresh your session.You signed out in another tab or window. Reload to refresh your session.\n"
     ]
    }
   ],
   "source": [
    "#未登入授權前\n",
    "url='https://github.com/new'\n",
    "res=requests.get(url,verify=False) #verify=False 關閉requests的憑證檢察功能\n",
    "soup=BeautifulSoup(res.text,'html.parser')\n",
    "print(soup.text.replace('\\n',''))"
   ]
  },
  {
   "cell_type": "code",
   "execution_count": 3,
   "metadata": {},
   "outputs": [
    {
     "name": "stderr",
     "output_type": "stream",
     "text": [
      "C:\\Users\\User\\Anaconda3\\lib\\site-packages\\urllib3\\connectionpool.py:847: InsecureRequestWarning: Unverified HTTPS request is being made. Adding certificate verification is strongly advised. See: https://urllib3.readthedocs.io/en/latest/advanced-usage.html#ssl-warnings\n",
      "  InsecureRequestWarning)\n"
     ]
    },
    {
     "name": "stdout",
     "output_type": "stream",
     "text": [
      "The world’s leading software development platform · GitHubSkip to content              Sign up                                Why GitHub?                    Features →Code reviewProject managementIntegrationsActionsPackagesSecurityTeam managementHostingCustomer stories →Security →Enterprise                    Explore                    Explore GitHub →Learn & contributeTopicsCollectionsTrendingLearning LabOpen source guidesConnect with othersEventsCommunity forumGitHub EducationMarketplace                    Pricing                    Plans →Compare plansContact SalesNonprofit →Education →        Search              All GitHub      ↵      Jump to      ↵No suggested jump to results        Search              All GitHub      ↵      Jump to      ↵        Search              All GitHub      ↵      Jump to      ↵           Sign in                    Sign up          Built for developers          GitHub is a development platform inspired by the way you work. From open source to business, you can host and review code, manage projects, and build software alongside 40 million developers.         UsernameEmailPasswordMake sure it's at least 15 characters OR at least 8 characters including a number and a lowercase letter. Learn more.Sign up for GitHub        By clicking “Sign up for GitHub”, you agree to our        Terms of Service and        Privacy Statement. We’ll occasionally send you account related emails. Sign up for GitHub.st0{fill:#d1d5da}.st2{fill:#959da4}.st3{fill:#586069}.st4{fill:#6a737d}.st5{fill:#dca82d}.st6{fill:#b18621}.st7{fill:#ffdd6a}.st8{fill:#ffe888}.st9{fill:#c6e2fd}.st10{fill:#fac237}.st12{fill:#ffd050}.st16{fill:#77bafc}.st17{fill:#036ad2}.st18{fill:#178cfa}.st19{fill:#daeefe}.st27{fill:#92989d}.st28{fill:#b9bdc1}.st30{fill:#686868}.st31{fill:#fafbfc}.st32{fill:#e1e4e8}.st40{fill:none;stroke:#036ad2;stroke-width:2;stroke-miterlimit:10}Get started with GitHub Enterprise        Take collaboration to the next level with security and administrative features built for teams.        EnterpriseDeploy to your environment or the cloud.Start a free trialTalk to usNeed help?Contact Sales →See what launched at UniverseSay hello to our new GitHub for mobile experience, get more from GitHub Actions and Packages, and learn how we’re shaping the future of software, together.Explore the launches       More than 2.1 million businesses and organizations use GitHub          GitHub for teams          A better way to work together          GitHub brings teams together to work through problems, move ideas forward, and learn from each other along the way.              Sign up your team →Write better codeCollaboration makes perfect. The conversations and code reviews that happen in pull requests help your team share the weight of your work and improve the software you build. Learn about code review.Manage your chaosTake a deep breath. On GitHub, project management happens in issues and project boards, right alongside your code. All you have to do is mention a teammate to get them involved. Learn about project management.Find the right toolsBrowse and buy apps from GitHub Marketplace with your GitHub account. Find the tools you like or discover new favorites—then start using them in minutes. Learn about integrations.      See how the world's leading companies use GitHub Enterprise.    &nearrMGM Resorts International            Hospitality          Read more→&nearrNationwide            Insurance          Read more→&nearrSAP            Business Software          Read more→&nearrSpotify            Technology / Streaming          Read more→      Security and administration          Your business needs, met           From flexible hosting to granular access controls, we’ve got your security requirements covered.    How GitHub Enterprise works →Learn how GitHub Enterprise works →Code security          Prevent problems before they happen. Protected branches, signed commits, and required status checks protect your work and help you maintain a high standard for your code.        Access controlled          Encourage teams to work together while limiting access to those who need it with granular permissions and authentication through SAML/SSO and LDAP.        Hosted where you need itSecurely and reliably host your work on GitHub using GitHub Enterprise Cloud. Or deploy GitHub Enterprise Server in your own data centers or in a private cloud using Amazon Web Services, Azure, or Google Cloud Platform.Compare plans →Contact Sales for more information →        Integrations              Build on GitHub              Customize your process with GitHub apps and an intuitive API. Integrate the tools you already use or discover new favorites to create a happier, more efficient way of working.      Learn about integrations →        Sometimes, there’s more than one tool for the job. Why not try something new?                Browse GitHub Marketplace →      Community          Welcome home, developers            GitHub is home to the world’s largest community of developers and their projects...      &nearrRussell Keith-Magee          Russell Keith-Magee created BeeWare to fill a gap in his own process. Today, BeeWare is the go-to project for supporting Python on every platform.      Read more→&nearrKris Nova          Kris Nova quickly developed a passion for open source software. Now she gets to work on open source tooling at her day job, which includes maintaining Kubernetes Operations (kops).      Read more→&nearrEvan You          In 2013, Evan You founded Vue, a Javascript framework funded by the community on Patreon. In 2016, Vue reached 2,000,000 downloads.      Read more→&nearrJess Frazelle          Jess Frazelle works on Kubernetes full-time. Previously she maintained Docker, a software containerization platform used by thousands of teams.      Read more→        ...whether you’re making your first commit or sending a Rover to Mars, there’s room for you here, too.      100M*repositories worldwideGitHub’s users create and maintain influential technologies alongside the world’s largest open source community.40M*developers worldwideDevelopers use GitHub for personal projects, from experimenting with new programming languages to hosting their life’s work.2.1M*businesses & organizations worldwideBusinesses of all sizes use GitHub to support their development process and to securely build software.          * As of August 2019                Get started for free — join the millions of developers already using GitHub to share their code, work together, and build amazing things.       UsernameEmailPasswordSign up for GitHub          By clicking “Sign up for GitHub”, you agree to our          terms of service and          privacy statement. We’ll occasionally send you account related emails. ProductFeaturesSecurityEnterpriseCustomer storiesPricingResourcesPlatformDeveloper APIPartnersAtomElectronGitHub DesktopSupportHelpCommunity ForumProfessional ServicesLearning LabStatusContact GitHubCompanyAboutBlogCareersPressShop© 2020 GitHub, Inc.TermsPrivacy    You can’t perform that action at this time.  You signed in with another tab or window. Reload to refresh your session.You signed out in another tab or window. Reload to refresh your session.\n"
     ]
    }
   ],
   "source": [
    "#在請求中帶入 cookie\n",
    "res = requests.get('https://github.com',verify = False, \n",
    "                   cookies={'__Host-user_session_same_site':'LKwTZb8KtCig4WxFoUc9Cc-WYIwosX7yIknCPULQYMdOfJoc',\n",
    "                            'dotcom_user':'Emmaulala',\n",
    "                            'logged_in':'yes',\n",
    "                            'user_session':'LKwTZb8KtCig4WxFoUc9Cc-WYIwosX7yIknCPULQYMdOfJoc'\n",
    "                            })\n",
    "soup = BeautifulSoup(res.text,'html.parser')\n",
    "print(soup.text.replace('\\n',''))"
   ]
  },
  {
   "cell_type": "code",
   "execution_count": null,
   "metadata": {},
   "outputs": [],
   "source": []
  }
 ],
 "metadata": {
  "kernelspec": {
   "display_name": "Python 3",
   "language": "python",
   "name": "python3"
  },
  "language_info": {
   "codemirror_mode": {
    "name": "ipython",
    "version": 3
   },
   "file_extension": ".py",
   "mimetype": "text/x-python",
   "name": "python",
   "nbconvert_exporter": "python",
   "pygments_lexer": "ipython3",
   "version": "3.7.4"
  }
 },
 "nbformat": 4,
 "nbformat_minor": 2
}
