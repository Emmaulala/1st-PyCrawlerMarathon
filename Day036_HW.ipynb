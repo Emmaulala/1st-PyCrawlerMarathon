{
 "cells": [
  {
   "cell_type": "markdown",
   "metadata": {},
   "source": [
    "# 加速：非同步爬蟲\n",
    "\n",
    "* 了解非同步爬蟲加速原理與實作"
   ]
  },
  {
   "cell_type": "markdown",
   "metadata": {},
   "source": [
    "## 作業目標\n",
    "\n",
    "* 比較一下非同步爬蟲跟多線程爬蟲的差異是什麼？各自的優缺點為何？"
   ]
  },
  {
   "cell_type": "markdown",
   "metadata": {
    "scrolled": true
   },
   "source": [
    "1. 非同步爬蟲:每發出一個requests都要等待server端的回應，而非同步爬蟲可以利用等待時間，同時再發出其他requests，直到server成功回應時，才用同一個執行緒處理回應回來的資料。  \n",
    "        優點:不會占用到多的CPU核心數，只是充分利用在同一個核心上的運算量而已  \n",
    "        缺點:爬取的內容比較複雜時難以勝任  \n",
    "2. 多線程(執行緒):使用多個CPU核心去處理事情  \n",
    "        優點:需要內存少，CPU利用率高，適合IO密集，像是爬蟲需要時間等待request回覆，數據共享簡單  \n",
    "        缺點:假設CPU核心不夠，硬是將線程的數量開的比核心數多，將可能會被強制終止某些線程"
   ]
  },
  {
   "cell_type": "code",
   "execution_count": null,
   "metadata": {},
   "outputs": [],
   "source": []
  }
 ],
 "metadata": {
  "colab": {
   "name": "homework.ipynb",
   "provenance": []
  },
  "kernelspec": {
   "display_name": "Python 3",
   "language": "python",
   "name": "python3"
  },
  "language_info": {
   "codemirror_mode": {
    "name": "ipython",
    "version": 3
   },
   "file_extension": ".py",
   "mimetype": "text/x-python",
   "name": "python",
   "nbconvert_exporter": "python",
   "pygments_lexer": "ipython3",
   "version": "3.7.4"
  }
 },
 "nbformat": 4,
 "nbformat_minor": 1
}
