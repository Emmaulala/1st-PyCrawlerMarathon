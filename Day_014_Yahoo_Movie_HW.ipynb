{
 "cells": [
  {
   "cell_type": "markdown",
   "metadata": {},
   "source": [
    "# YAHOO電影爬蟲練習\n",
    "## 練習爬取電影放映資訊。必須逐步獲取電影的代號、放映地區、放映日期後，再送出查詢給伺服器。"
   ]
  },
  {
   "cell_type": "code",
   "execution_count": 2,
   "metadata": {},
   "outputs": [],
   "source": [
    "import requests\n",
    "import re\n",
    "from bs4 import BeautifulSoup"
   ]
  },
  {
   "cell_type": "markdown",
   "metadata": {},
   "source": [
    "### 先搜尋全部的電影代號(ID)資訊"
   ]
  },
  {
   "cell_type": "code",
   "execution_count": 3,
   "metadata": {},
   "outputs": [
    {
     "name": "stdout",
     "output_type": "stream",
     "text": [
      "Movie: 兔嘲男孩, ID: 10283\n",
      "Movie: 海上鋼琴師4K數位修復, ID: 10425\n",
      "Movie: 鹿皮奇談, ID: 10420\n",
      "Movie: 大約在冬季, ID: 10408\n",
      "Movie: 倒數計死, ID: 10390\n",
      "Movie: 吹哨人, ID: 10381\n",
      "Movie: 幸福試用期, ID: 10374\n",
      "Movie: 竊竊屍語, ID: 10365\n",
      "Movie: 舞力決戰, ID: 10344\n",
      "Movie: 潛艦追緝, ID: 10333\n",
      "Movie: 霹靂嬌娃, ID: 10124\n",
      "Movie: 白頭山：半島浩劫, ID: 10354\n",
      "Movie: CATS貓, ID: 10166\n",
      "Movie: 金魚, ID: 10424\n",
      "Movie: 海上花, ID: 10376\n",
      "Movie: 奪魂露營車, ID: 10366\n",
      "Movie: 怨靈古堡, ID: 10356\n",
      "Movie: 添好孕, ID: 10332\n",
      "Movie: 外出偷馬, ID: 10310\n",
      "Movie: 茱蒂, ID: 10112\n",
      "Movie: 燃燒女子的畫像, ID: 10069\n",
      "Movie: 葉問4：完結篇, ID: 9890\n",
      "Movie: STAR WARS : 天行者的崛起, ID: 10225\n",
      "Movie: 復仇母親, ID: 10392\n",
      "Movie: 南方車站的聚會, ID: 10380\n",
      "Movie: 祭旗, ID: 10373\n",
      "Movie: 黑熊來了, ID: 10357\n",
      "Movie: 黑計畫, ID: 10351\n",
      "Movie: 8級警戒, ID: 10323\n",
      "Movie: 為你存在的每一天, ID: 10297\n",
      "Movie: 黑色聖誕節, ID: 10291\n",
      "Movie: 大說謊家, ID: 10122\n",
      "Movie: 特約經紀公司, ID: 10364\n",
      "Movie: 人間失格：太宰治與他的3個女人, ID: 10287\n",
      "Movie: 呆萌特務, ID: 10264\n",
      "Movie: 去年聖誕節, ID: 10256\n",
      "Movie: 野蠻遊戲：全面晉級, ID: 10134\n",
      "Movie: 夕霧花園, ID: 10327\n",
      "Movie: 鋒迴路轉, ID: 10258\n",
      "Movie: 賽道狂人, ID: 10097\n",
      "Movie: 女神們的下午茶, ID: 10314\n",
      "Movie: 82年生的金智英, ID: 10298\n",
      "Movie: 冰雪奇緣2, ID: 9597\n",
      "Movie: 決戰中途島, ID: 10130\n",
      "Movie: 地久天長, ID: 9621\n",
      "Movie: 陽光普照, ID: 10240\n",
      "Movie: 傻傻愛你，傻傻愛我, ID: 10075\n",
      "Movie: 狙擊獵殺：救援行動, ID: 10284\n",
      "Movie: 金翅雀, ID: 10072\n",
      "Movie: 雙子殺手, ID: 10017\n",
      "Movie: 海獸之子, ID: 10263\n",
      "Movie: 電影版 壞傢伙們, ID: 10249\n",
      "Movie: 江湖無難事, ID: 10241\n",
      "Movie: 仙戒奇緣, ID: 10211\n",
      "Movie: 藍波：最後一滴血, ID: 10205\n",
      "Movie: 屍樂園：髒比雙拼, ID: 10176\n",
      "Movie: 弒婚遊戲, ID: 10171\n",
      "Movie: 108悍將, ID: 10238\n",
      "Movie: 壞壞萌雪怪, ID: 10065\n",
      "Movie: 小丑, ID: 9949\n",
      "Movie: 教父II, ID: 10289\n",
      "Movie: 瞞天機密, ID: 10206\n",
      "Movie: 校外打怪教學, ID: 10200\n",
      "Movie: 返校, ID: 10109\n",
      "Movie: 唐頓莊園, ID: 10064\n",
      "Movie: 衝擊真相, ID: 10215\n",
      "Movie: 舞孃騙很大, ID: 10199\n",
      "Movie: 夜鶯的哭聲, ID: 10191\n",
      "Movie: 好小男孩, ID: 9894\n",
      "Movie: 大叔之愛電影版, ID: 10136\n",
      "Movie: 牠 第二章, ID: 10042\n",
      "Movie: 極限逃生, ID: 10174\n",
      "Movie: 全面攻佔3：天使救援, ID: 10082\n",
      "Movie: 憤怒鳥玩電影2：冰的啦, ID: 10002\n",
      "Movie: 獅子王, ID: 9116\n",
      "Movie: 玩具總動員4, ID: 9924\n",
      "Movie: 毀滅者, ID: 9405\n",
      "Movie: 庫爾斯克號：深海救援, ID: 9134\n",
      "Movie: 厄夜追緝令, ID: 9589\n",
      "Movie: 苦兒流浪記, ID: 9538\n",
      "Movie: 活個精彩, ID: 9394\n",
      "Movie: 限時好友, ID: 9578\n",
      "Movie: 祝你忌日快樂, ID: 9568\n",
      "Movie: 艾莉塔：戰鬥天使, ID: 8553\n",
      "Movie: 馴龍高手3, ID: 8350\n",
      "Movie: 幸福綠皮書, ID: 9150\n",
      "Movie: 一首搖滾上月球, ID: 4887\n",
      "Movie: 錢不夠用2, ID: 3026\n"
     ]
    }
   ],
   "source": [
    "# 查看目前上映那些電影，並擷取出其ID資訊\n",
    "url = 'https://movies.yahoo.com.tw/'\n",
    "resp = requests.get(url)\n",
    "resp.encoding = 'utf-8'\n",
    "\n",
    "soup=BeautifulSoup(resp.text, 'lxml')#解析套件 'html.parser','html5lib','lxml'，lxml解析速度最快\n",
    "html = soup.find(\"select\", attrs={'name':'movie_id'})\n",
    "movie_item = html.find_all(\"option\", attrs={'data-name':re.compile('.*')}) #用re.complile編譯pattern(.*)正規表達式，符合所有內容(即取出所有'data-name'屬性='任何值'的<option>標籤)\n",
    "\n",
    "for p in movie_item:\n",
    "    print(\"Movie: %s, ID: %s\" % (p[\"data-name\"], p[\"value\"]))"
   ]
  },
  {
   "cell_type": "markdown",
   "metadata": {},
   "source": [
    "### 指定你有興趣的電影其ID，然後查詢其放映地區資訊。"
   ]
  },
  {
   "cell_type": "code",
   "execution_count": 116,
   "metadata": {},
   "outputs": [],
   "source": [
    "# 參考前一個步驟中擷取到的ID資訊，並指定ID\n",
    "movie_id = 10283"
   ]
  },
  {
   "cell_type": "code",
   "execution_count": 117,
   "metadata": {},
   "outputs": [
    {
     "name": "stdout",
     "output_type": "stream",
     "text": [
      "放映地區: 台北市, 代號(area_id): 28\n",
      "放映地區: 新北市, 代號(area_id): 8\n",
      "放映地區: 桃園, 代號(area_id): 16\n",
      "放映地區: 新竹, 代號(area_id): 20\n",
      "放映地區: 苗栗, 代號(area_id): 15\n",
      "放映地區: 台中, 代號(area_id): 2\n",
      "放映地區: 台南, 代號(area_id): 10\n",
      "放映地區: 高雄, 代號(area_id): 17\n"
     ]
    }
   ],
   "source": [
    "#javascript動態載入:觀察網頁選擇不同電影之後Network部分新增了甚麼\n",
    "url = 'https://movies.yahoo.com.tw/api/v1/areas_by_movie_theater?' #此處的url可以使用直接完整字串表示或者用參數(params)補上，參數為key-value形式\n",
    "payload = {'movie_id':str(movie_id)}\n",
    "\n",
    "# 模擬一個header:從新增的網頁開發人員工具的Network項目中，找到新增的項目，其中的headers(不同電影headers不同)\n",
    "headers = {\n",
    "    'authority': 'movies.yahoo.com.tw',\n",
    "    'method': 'GET',\n",
    "    'path': '/api/v1/areas_by_movie_theater?movie_id=' + str(movie_id),\n",
    "    'scheme': 'https',\n",
    "    'accept': 'application/json, text/javascript, */*; q=0.01',\n",
    "    'accept-encoding': 'gzip, deflate, br',\n",
    "    'accept-language': 'en-GB,en;q=0.9,zh-TW;q=0.8,zh;q=0.7',\n",
    "    'cookie': 'BX=asnqdrhf0441m&b=3&s=og; rxx=19fcle0d6u5.1rrlpb0r&v=1; _ga=GA1.4.1987443436.1577193527; A1=d=AQABBDYQAl4CEO9D00Xono6JnPhKrtxNX64FEgEBAQEJBl7mXr3Lb2UB_SMAAAYsQVFFQkFRRmVCZ2xlNWtJaV9RU08mcz1BUUFBQUlPbDFlZVMmZz1YZ1RFcEEHCDYQAl7cTV-u&S=AQAAAp9ipH8C4jwsX7pgFPoQlIM; A3=d=AQABBDYQAl4CEO9D00Xono6JnPhKrtxNX64FEgEBAQEJBl7mXr3Lb2UB_SMAAAYsQVFFQkFRRmVCZ2xlNWtJaV9RU08mcz1BUUFBQUlPbDFlZVMmZz1YZ1RFcEEHCDYQAl7cTV-u&S=AQAAAp9ipH8C4jwsX7pgFPoQlIM; GUC=AQEBAQFeBgle5kIi_QSO; _gid=GA1.4.361034120.1577370781; avi=eyJpdiI6Imp1b0QranVyNTl2bis2Z2lkbVg1alE9PSIsInZhbHVlIjoieUZwWnkyTnpKR3JkcE04c0tjMnFxZz09IiwibWFjIjoiYzY1YzM0NjI4MzhjYzRmOTNhZjc2OTQyOWRjZDk0YTkxYzRhMGNmZGIwYjIxYWQzYWViZGFjNmRlMmM4Zjk2YSJ9; A1S=d=AQABBDYQAl4CEO9D00Xono6JnPhKrtxNX64FEgEBAQEJBl7mXr3Lb2UB_SMAAAYsQVFFQkFRRmVCZ2xlNWtJaV9RU08mcz1BUUFBQUlPbDFlZVMmZz1YZ1RFcEEHCDYQAl7cTV-u&S=AQAAAp9ipH8C4jwsX7pgFPoQlIM; cmp=t=1577509312&j=0; XSRF-TOKEN=eyJpdiI6IkNtbUNUYzEwMXE2OWpqKzFQTEdxXC93PT0iLCJ2YWx1ZSI6InY2TWRsQVhvOXY5YjNqMHg0a0xOUUEwWlFpNDl5WEpZbDl5OEEwVW5iWUgwOVlLWXlNTUVqMnEwQTNheHl3emwrcW1HenhTM0lGcnZBeStLWVA0RUdnPT0iLCJtYWMiOiJhMmM2NGViOGVjODUwN2Q2OWMyOWYyYTQ0Yzc2MDVjMGMxY2Q5M2E2OTZkNjdkZmY5YjkzNGVkMTJjN2Q0Y2M3In0%3D; ms55=eyJpdiI6ImhLVnMrazUzQmJcL3JUMlh2RFFhaWhBPT0iLCJ2YWx1ZSI6IlwvMFdUbHQwb0ZnMzFKak5TVVc2aHI4K0hRXC9iZm5NVWtwRGNybWFiZEhmUUJsQktnSHNRSWRpTndqVkdGQk5MRVJ0cURGMXRMTGhNWFlSMmJ3S01sZUE9PSIsIm1hYyI6IjFmOWFlY2U2MzdlNmQ0NjFhMDZkZTg3YWZhMDUzN2QwNzEzZGE1MjM5N2RiMzk3Y2YxOGZmYTA3N2VhNTNiNzkifQ%3D%3D',\n",
    "    'dnt': '1',\n",
    "    'mv-authorization': '21835b082e15b91a69b3851eec7b31b82ce82afb',\n",
    "    'referer': 'https://movies.yahoo.com.tw/',\n",
    "    'sec-fetch-mode': 'cors',\n",
    "    'sec-fetch-site': 'same-origin',\n",
    "    'user-agent': 'Mozilla/5.0 (Windows NT 10.0; Win64; x64) AppleWebKit/537.36 (KHTML, like Gecko) Chrome/79.0.3945.88 Safari/537.36',\n",
    "    'x-requested-with': 'XMLHttpRequest',\n",
    "}\n",
    "    \n",
    "resp = requests.get(url,params=payload, headers=headers)#若url已是完整的url則不必加上參數params=payload，參數用意為在網址後面補上?之後的字串(即movie_id=10332)\n",
    "#print(resp.json())  # 若有需要，列印出json原始碼\n",
    "\n",
    "# 這裡回傳的格式是JSON格式的資料，要解析JSON擷取資料\n",
    "for p in resp.json():\n",
    "    print('放映地區: {0}, 代號(area_id): {1}'.format(p['title'], p['area_id']))"
   ]
  },
  {
   "cell_type": "markdown",
   "metadata": {},
   "source": [
    "### 指定你想要觀看的放映地區，查詢有上映電影的場次日期"
   ]
  },
  {
   "cell_type": "code",
   "execution_count": 118,
   "metadata": {},
   "outputs": [],
   "source": [
    "# 指定放映地區\n",
    "area_id = 10"
   ]
  },
  {
   "cell_type": "code",
   "execution_count": 119,
   "metadata": {},
   "outputs": [
    {
     "name": "stdout",
     "output_type": "stream",
     "text": [
      "十二月 28\n",
      "十二月 29\n",
      "十二月 30\n",
      "十二月 31\n",
      "一月 1\n"
     ]
    }
   ],
   "source": [
    "#方法1:直接爬取(有瑕疵，見方法2)\n",
    "# 向網站發送請求\n",
    "url = 'https://movies.yahoo.com.tw/movietime_result.html'\n",
    "payload = {'movie_id':str(movie_id), 'area_id':str(area_id)} #使用參數在上面的url後面加上?movie_id=10332&area_id=16使之成為完整url\n",
    "resp = requests.get(url, params=payload) #此處記得補上參數\n",
    "resp.encoding = 'utf-8'\n",
    "\n",
    "soup = BeautifulSoup(resp.text, 'lxml')\n",
    "movie_date = soup.find_all(\"label\", attrs={'for':re.compile(\"date_[\\d]\")}) #利用正規表達式比對屬性for的值來找標籤\n",
    "\n",
    "# 列印播放日期\n",
    "for date in movie_date:\n",
    "    print(\"%s %s\" % (date.p.string, date.h3.string))"
   ]
  },
  {
   "cell_type": "code",
   "execution_count": 120,
   "metadata": {},
   "outputs": [
    {
     "name": "stdout",
     "output_type": "stream",
     "text": [
      "十二月 28\n",
      "十二月 29\n"
     ]
    }
   ],
   "source": [
    "#方法2:有些區域有標籤disabled應該去除其結果(較精確)\n",
    "# 向網站發送請求\n",
    "url = 'https://movies.yahoo.com.tw/movietime_result.html'\n",
    "payload = {'movie_id':str(movie_id), 'area_id':str(area_id)} #使用參數在上面的url後面加上?movie_id=10332&area_id=16使之成為完整url\n",
    "resp = requests.get(url, params=payload) #此處記得補上參數\n",
    "resp.encoding = 'utf-8'\n",
    "\n",
    "soup = BeautifulSoup(resp.text, 'lxml')\n",
    "movie_date = soup.find(\"ul\",class_=\"date_timetable_picker\").find_all('li')\n",
    "\n",
    "#列印播放日期\n",
    "for date in movie_date:\n",
    "    \n",
    "    if date.find('input',attrs={'disabled':re.compile('(.*)')})!=None:#如果 屬性disabled=任何值比對成功的標籤 被找到(!=None)的話，即找有disabeld屬性的標籤，則略過\n",
    "        continue\n",
    "    else:\n",
    "        print(\"%s %s\" % (date.p.string, date.h3.string))"
   ]
  },
  {
   "cell_type": "markdown",
   "metadata": {},
   "source": [
    "### 最後指定觀看的日期，查詢並列印出放映的電影院、放映類型(數位、3D、IMAX 3D...)、放映時間等資訊。"
   ]
  },
  {
   "cell_type": "code",
   "execution_count": 121,
   "metadata": {},
   "outputs": [],
   "source": [
    "# 選定要觀看的日期\n",
    "date = \"2019-12-29\""
   ]
  },
  {
   "cell_type": "code",
   "execution_count": 122,
   "metadata": {},
   "outputs": [],
   "source": [
    "# 向網站發送請求，獲取上映的電影院及時間資訊\n",
    "url = \"https://movies.yahoo.com.tw/ajax/pc/get_schedule_by_movie\" \n",
    "#完整url為https://movies.yahoo.com.tw/ajax/pc/get_schedule_by_movie?movie_id=10332&date=2019-12-29&area_id=16\n",
    "#此處?movie_id=10332&date=2019-12-29&area_id=16以參數方式附上\n",
    "payload = {'movie_id':str(movie_id),\n",
    "           'date':date,\n",
    "           'area_id':str(area_id),\n",
    "           'theater_id':'',\n",
    "           'datetime':'',\n",
    "           'movie_type_id':''}\n",
    "\n",
    "resp = requests.get(url, params=payload)\n",
    "#print(resp.json()['view'])  # 若有需要，列印出json原始碼\n",
    "\n",
    "soup = BeautifulSoup(resp.json()['view'], 'lxml')\n",
    "html = soup.find_all(\"ul\", attrs={'data-theater_name':re.compile(\".*\")})"
   ]
  },
  {
   "cell_type": "code",
   "execution_count": 123,
   "metadata": {},
   "outputs": [
    {
     "name": "stdout",
     "output_type": "stream",
     "text": [
      "電影院: 台南大遠百威秀影城\n",
      "放映類型: 數位\n",
      "2019-12-29 12:10\n",
      "---------------------------------------------------\n",
      "電影院: 台南新光影城\n",
      "放映類型: 數位\n",
      "2019-12-29 15:35\n",
      "---------------------------------------------------\n",
      "電影院: 台南真善美劇院\n",
      "放映類型: 數位\n",
      "2019-12-29 10:30\n",
      "---------------------------------------------------\n"
     ]
    }
   ],
   "source": [
    "for tag in html:\n",
    "    print('電影院:',tag.find('a').string)\n",
    "    print('放映類型:',tag.find('span',class_=\"tapR\").string)\n",
    "    print(date,tag.find('label',class_=\"select\").string)\n",
    "    print('---------------------------------------------------')"
   ]
  },
  {
   "cell_type": "code",
   "execution_count": null,
   "metadata": {},
   "outputs": [],
   "source": []
  },
  {
   "cell_type": "code",
   "execution_count": null,
   "metadata": {},
   "outputs": [],
   "source": []
  }
 ],
 "metadata": {
  "kernelspec": {
   "display_name": "Python 3",
   "language": "python",
   "name": "python3"
  },
  "language_info": {
   "codemirror_mode": {
    "name": "ipython",
    "version": 3
   },
   "file_extension": ".py",
   "mimetype": "text/x-python",
   "name": "python",
   "nbconvert_exporter": "python",
   "pygments_lexer": "ipython3",
   "version": "3.7.4"
  }
 },
 "nbformat": 4,
 "nbformat_minor": 2
}
