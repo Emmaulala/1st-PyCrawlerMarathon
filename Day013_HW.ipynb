{
 "cells": [
  {
   "cell_type": "markdown",
   "metadata": {},
   "source": [
    "# PTT 網路爬蟲實作練習\n",
    "\n",
    "\n",
    "* 能夠利用 Request + BeatifulSour 撰寫爬蟲，並存放到合適的資料結構\n"
   ]
  },
  {
   "cell_type": "markdown",
   "metadata": {},
   "source": [
    "## 作業目標\n",
    "\n",
    "根據範例 ，完成以下問題：\n",
    "\n",
    "* ① 印出最新文章的「作者」「標題」「時間」\n",
    "* ② 印出第一頁所有文章的「作者」「標題」「時間」\n"
   ]
  },
  {
   "cell_type": "markdown",
   "metadata": {},
   "source": [
    "### ① 印出最新文章的「作者」「標題」「時間」"
   ]
  },
  {
   "cell_type": "code",
   "execution_count": 194,
   "metadata": {},
   "outputs": [],
   "source": [
    "import requests\n",
    "from bs4 import BeautifulSoup\n",
    "import time\n",
    "import pandas as pd"
   ]
  },
  {
   "cell_type": "code",
   "execution_count": 195,
   "metadata": {},
   "outputs": [],
   "source": [
    "url='https://www.ptt.cc/bbs/NBA/index.html' #看板任何一頁的 url都行\n",
    "r=requests.get(url)\n",
    "res=BeautifulSoup(r.text)"
   ]
  },
  {
   "cell_type": "code",
   "execution_count": 196,
   "metadata": {},
   "outputs": [],
   "source": [
    "newtag=res.find('a',string='最新') #根據string找到標籤\n",
    "newlink='https://www.ptt.cc/'+newtag['href'] #獲得最新文章頁面的超連結後，記得組成完整網址\n",
    "\n",
    "#獲取最新文章所在頁面的原始碼 \n",
    "res2=BeautifulSoup(requests.get(newlink).text)"
   ]
  },
  {
   "cell_type": "code",
   "execution_count": 199,
   "metadata": {},
   "outputs": [],
   "source": [
    "#將時間整數轉成日期\n",
    "def TransTime(n):\n",
    "        timeint=int(n) #字串轉成整數資料，localtime只接受整數\n",
    "        times=time.localtime(timeint) #轉換日期\n",
    "        timeresult=time.strftime('%Y-%m-%d %H:%M:%S',times) #格式化\n",
    "        return timeresult"
   ]
  },
  {
   "cell_type": "code",
   "execution_count": 200,
   "metadata": {},
   "outputs": [
    {
     "name": "stdout",
     "output_type": "stream",
     "text": [
      "最新文章時間 2019-12-26 15:15:24\n",
      "時間        2019-12-26 15:15:24\n",
      "作者                  fukawa947\n",
      "標題    [新聞] 看見季後賽曙光　保羅心境轉變想為雷霆\n",
      "Name: 6, dtype: object\n"
     ]
    }
   ],
   "source": [
    "#找出最新文章\n",
    "tags=res2.find_all('div',class_=\"r-ent\")\n",
    "\n",
    "titlelist=[]\n",
    "authorlist=[]\n",
    "timelist=[]\n",
    "for tag in tags:\n",
    "    try:\n",
    "        timedata=tag.a['href'].split('.')[1] #從標籤 a的屬性 href取出時間整數值(資料型態:字串)\n",
    "        returntime=TransTime(timedata) #從函式回傳一個轉換後的時間值\n",
    "        timelist.append(returntime) #將此回傳值加到時間列表\n",
    "        authortag=tag.find('div',class_=\"author\") #找作者標籤\n",
    "        authorlist.append(authortag.text) #建立作者list\n",
    "        titlelist.append(tag.a.string) #建立文章標題list\n",
    "        \n",
    "    except:\n",
    "        continue\n",
    "\n",
    "#建立dataframe\n",
    "df=pd.DataFrame({'時間':timelist,'作者':authorlist,'標題':titlelist})\n",
    "print('最新文章時間',df['時間'].max()) #找出最新時間\n",
    "n=0\n",
    "for i in df.iloc[:,0]: #對時間欄內所有時間比對\n",
    "    n+=1\n",
    "    if i ==df['時間'].max(): #若等於最新時間，輸出那一行(時間 &作者 &標題)\n",
    "        print(df.iloc[n-1,:])\n"
   ]
  },
  {
   "cell_type": "markdown",
   "metadata": {},
   "source": [
    "### ② 印出第一頁所有文章的「作者」「標題」「時間」"
   ]
  },
  {
   "cell_type": "code",
   "execution_count": 237,
   "metadata": {},
   "outputs": [],
   "source": [
    "#由看板任一頁url獲得最新一頁url\n",
    "def newestPage(url):\n",
    "    r=requests.get(url)\n",
    "    res=BeautifulSoup(r.text)\n",
    "    newtag=res.find('a',string='最新') #根據string找到標籤\n",
    "    newlink='https://www.ptt.cc/'+newtag['href'] #獲得最新文章頁面的超連結後，記得組成完整網址\n",
    "    return newlink\n",
    "    \n",
    "newlink=newestPage('https://www.ptt.cc/bbs/NBA/index6509.html') #任一頁url丟入函式，獲得最新頁url"
   ]
  },
  {
   "cell_type": "code",
   "execution_count": 250,
   "metadata": {},
   "outputs": [
    {
     "name": "stdout",
     "output_type": "stream",
     "text": [
      "              作者                   時間                                      標題\n",
      "0      jimmy5680  2019-12-26 13:34:07              [新聞] 雷納德19投11中轟35+12賞湖人4連敗\n",
      "1       james008  2019-12-26 13:52:04                [花邊] 詹姆斯：開場被貝弗利頂到腹股溝後，感覺\n",
      "2          Rambo  2019-12-26 13:58:14      [BOX ] Pelicans 112:100 Nuggets 數據\n",
      "3     satelliter  2019-12-26 14:02:58                      [外絮] 癌末青年實現與老詹握手願望\n",
      "4        pautaid  2019-12-26 14:42:20                [新聞] 詹姆斯飆追平三分球  挨瘋狗貝再見火鍋\n",
      "5     currykukuo  2019-12-26 14:49:54                  [新聞] NBA／杰倫出訪　拿走加國的第一次\n",
      "6      fukawa947  2019-12-26 15:15:24                 [新聞] 看見季後賽曙光　保羅心境轉變想為雷霆\n",
      "7          lifuz  2019-12-26 15:25:36                [花邊] 影／救人喔！摔進觀眾席…一眉重壓好萊塢\n",
      "8     currykukuo  2019-12-26 15:28:24                [外絮] PG:西決基本上已經確定是湖人跟快艇打\n",
      "9      bbbyes123  2019-12-26 15:55:29                [情報] 名記:詹姆斯瘸腿走出更衣室，稱被撞傷後\n",
      "10     Pinka5566  2019-12-26 16:16:17               Re: [情報] WoJ:Kawhi肌腱炎帶傷上陣\n",
      "11        pneumo  2019-12-26 16:35:36             [情報] Beverely講為何對LBJ跟湖人耿耿於懷\n",
      "12         Vedan  2019-05-24 19:43:14                             [公告] 板規v6.7\n",
      "13         Vedan  2019-06-24 15:08:04                      [公告] 樂透取消及未來不再開啟樂透\n",
      "14  qazwsx879345  2019-10-25 10:44:05                          [公告] 版主上任相關事項 \n",
      "15       JerroLi  2019-11-29 00:46:04  [情報] SEASON Schedule 賽程 December 19–20\n"
     ]
    },
    {
     "data": {
      "text/plain": [
       "'https://www.ptt.cc//bbs/NBA/index6511.html'"
      ]
     },
     "execution_count": 250,
     "metadata": {},
     "output_type": "execute_result"
    }
   ],
   "source": [
    "#建立函式:從最新一頁逐漸往上一頁搜尋文章\n",
    "def PageData(link):\n",
    "    r=BeautifulSoup(requests.get(link).text) #解析最新頁htnl網頁碼\n",
    "    #搜尋標籤   \n",
    "    rtags=r.find_all('div',class_=\"r-ent\")\n",
    "    titlelist=[]\n",
    "    authorlist=[]\n",
    "    timelist=[]\n",
    "\n",
    "    for rtag in rtags:\n",
    "        try:\n",
    "            titlelist.append(rtag.a.text) #建立文章標題list\n",
    "            authortag=rtag.find('div',class_=\"author\") #找作者標籤\n",
    "            authorlist.append(authortag.text) #建立作者list\n",
    "            timedata=rtag.a['href'].split('.')[1] #從標籤 a的屬性 href取出時間整數值(資料型態:字串)\n",
    "            returntime=TransTime(timedata) #從函式回傳一個轉換後的時間值\n",
    "            timelist.append(returntime) #將此回傳值加到時間列表\n",
    "\n",
    "        except:\n",
    "            continue\n",
    "\n",
    "    #建立dataframe印出文章資料\n",
    "    print(pd.DataFrame({'作者':authorlist,'時間':timelist,'標題':titlelist}))\n",
    "    \n",
    "    #回傳上一頁url\n",
    "    newtag=r.find('a',string='‹ 上頁')\n",
    "    lastpagelink='https://www.ptt.cc/'+newtag['href'] #獲得上一頁頁面的超連結後，記得組成完整網址\n",
    "    return lastpagelink\n",
    "\n",
    "#呼叫函式印出最新一頁內容\n",
    "PageData(newlink)"
   ]
  },
  {
   "cell_type": "code",
   "execution_count": 256,
   "metadata": {},
   "outputs": [
    {
     "name": "stdout",
     "output_type": "stream",
     "text": [
      "              作者                   時間                                      標題\n",
      "0      jimmy5680  2019-12-26 13:34:07              [新聞] 雷納德19投11中轟35+12賞湖人4連敗\n",
      "1       james008  2019-12-26 13:52:04                [花邊] 詹姆斯：開場被貝弗利頂到腹股溝後，感覺\n",
      "2          Rambo  2019-12-26 13:58:14      [BOX ] Pelicans 112:100 Nuggets 數據\n",
      "3     satelliter  2019-12-26 14:02:58                      [外絮] 癌末青年實現與老詹握手願望\n",
      "4        pautaid  2019-12-26 14:42:20                [新聞] 詹姆斯飆追平三分球  挨瘋狗貝再見火鍋\n",
      "5     currykukuo  2019-12-26 14:49:54                  [新聞] NBA／杰倫出訪　拿走加國的第一次\n",
      "6      fukawa947  2019-12-26 15:15:24                 [新聞] 看見季後賽曙光　保羅心境轉變想為雷霆\n",
      "7          lifuz  2019-12-26 15:25:36                [花邊] 影／救人喔！摔進觀眾席…一眉重壓好萊塢\n",
      "8     currykukuo  2019-12-26 15:28:24                [外絮] PG:西決基本上已經確定是湖人跟快艇打\n",
      "9      bbbyes123  2019-12-26 15:55:29                [情報] 名記:詹姆斯瘸腿走出更衣室，稱被撞傷後\n",
      "10     Pinka5566  2019-12-26 16:16:17               Re: [情報] WoJ:Kawhi肌腱炎帶傷上陣\n",
      "11        pneumo  2019-12-26 16:35:36             [情報] Beverely講為何對LBJ跟湖人耿耿於懷\n",
      "12         Vedan  2019-05-24 19:43:14                             [公告] 板規v6.7\n",
      "13         Vedan  2019-06-24 15:08:04                      [公告] 樂透取消及未來不再開啟樂透\n",
      "14  qazwsx879345  2019-10-25 10:44:05                          [公告] 版主上任相關事項 \n",
      "15       JerroLi  2019-11-29 00:46:04  [情報] SEASON Schedule 賽程 December 19–20\n",
      "             作者                   時間                                   標題\n",
      "0         Rambo  2019-12-26 08:30:04                       [Live] 快艇 @ 湖人\n",
      "1    thnlkj0665  2019-12-26 09:11:57             [情報] 勇士隊 本季首度擊敗勝率超過五成的球隊\n",
      "2     lens82801  2019-12-26 09:40:28        [外絮] 溜馬Victor Oladipo可望於一月底歸隊\n",
      "3        pneumo  2019-12-26 09:47:20         Re: [情報] 勇士隊 本季首度擊敗勝率超過五成的球隊\n",
      "4        admeta  2019-12-26 10:13:07           [新聞] 字母哥打鐵27投8中 上籃還被『戳眼』暴怒\n",
      "5      shenjade  2019-12-26 10:16:58              [情報] 哈登單場僅一罰 勇士拿下聖誕大賽勝利\n",
      "6    soulboy330  2019-12-26 10:32:05         Re: [情報] Doc:「KG是永遠不會說人好話的。」\n",
      "7      Muma5566  2019-12-26 10:38:20  [花邊] Jaylen Brown成為賽爾提克聖誕大賽最年輕30+球員\n",
      "8          Yui5  2019-12-26 10:51:47           [花邊] 球迷花41262美元買下今日艇湖比賽場邊票\n",
      "9         Rambo  2019-12-26 11:00:04                       [Live] 鵜鶘 @ 金塊\n",
      "10        Rambo  2019-12-26 11:40:14    [BOX ] Clippers 111:106 Lakers 數據\n",
      "11    s27052705  2019-12-26 11:44:34          [情報] Kawhi全場砍35分創隊史聖誕大戰最高得分\n",
      "12    Angel0724  2019-12-26 11:55:49              [情報] 天空貝完成致勝火鍋大喊：這是我的城市\n",
      "13    s27052705  2019-12-26 12:33:16              [花邊] 詹姆斯：開場被撞擊後感覺回到了5天前\n",
      "14       pneumo  2019-12-26 13:06:33             [花邊] 勇士擊敗火箭是史上聖誕節大戰大冷門之一\n",
      "15  love1500274  2019-12-26 13:10:10                  [討論] 湖人的陣容是不是註定輸給快艇\n",
      "16  Ayanami5566  2019-12-26 13:23:01                     [討論] 迪奧的生涯代表作是啥?\n"
     ]
    }
   ],
   "source": [
    "#使用迴圈可抓取多頁\n",
    "count=0\n",
    "link=newlink\n",
    "while count<2: #想印出幾頁就跑幾次迴圈\n",
    "    link=PageData(link) #將回傳的上一頁url做為新的url丟進函式獲得另一頁的資料\n",
    "    count+=1"
   ]
  },
  {
   "cell_type": "markdown",
   "metadata": {},
   "source": [
    "### ③ 試著爬爬看其他版的文章"
   ]
  },
  {
   "cell_type": "code",
   "execution_count": 258,
   "metadata": {},
   "outputs": [
    {
     "name": "stdout",
     "output_type": "stream",
     "text": [
      "            作者                   時間                            標題\n",
      "0       AlphaD  2019-12-26 04:36:32          [食記] 日本大阪 螃蟹道樂 道頓堀本店\n",
      "1    chrisxmen  2019-12-26 07:50:20            Fw: [食記] 指宿 唐船峽流水麵\n",
      "2     MarkFung  2019-12-26 08:36:51            [食記] 基隆市七堵區 七堵臭粿仔湯\n",
      "3    leafphoto  2019-12-26 11:13:32                  [食記] 高雄 阿強碳烤\n",
      "4   tiantian27  2019-12-26 11:50:49  [食記] 台北 LadyM 遠百信義A13！挑高空間太美\n",
      "5         lkjt  2019-12-26 13:14:01  [食記] 台北 CHAMBISTRO 享．香檳海鮮餐酒館\n",
      "6      ally701  2019-12-26 15:45:57      [食記] 台北松山 民生社區 玉小蘭 漢堡超好吃\n",
      "7      ally701  2019-12-26 15:48:11     [食記] 台北西門町 必可蜜飲料 綠寶珍珠奶茶大推\n",
      "8      designW  2019-12-26 16:28:56              [食記] 高雄路竹-阿美土魠魚羹\n",
      "9      Dilbert  2012-12-16 23:59:42           [公告] Food板 板規 V3.91\n",
      "10    bluefish  2007-09-28 09:53:46     [公告] 發文請在標題加上地區及提供地址電話。^^\n",
      "11     Dilbert  2005-10-01 10:11:06        [公告] 文章被刪除者請洽精華區的資源回收桶\n",
      "12     Dilbert  2017-06-04 07:27:49        [公告] 新增板規22：發文禁附延伸閱讀連結\n",
      "            作者                   時間                                  標題\n",
      "0   yilung1115  2019-12-25 16:25:10        [食記] 沖繩｜恩納村｜夏威夷鬆餅屋 Paanilani\n",
      "1      Dilbert  2019-12-25 16:26:47                    [公告] 解除水桶－Puck03\n",
      "2   tiantian27  2019-12-25 16:56:21           [廣宣] 台北 滿足鍋物-份量霸氣！壽星直接送龍蝦\n",
      "3       Puck03  2019-12-25 18:09:34            [廣宣] 台中 八豆食府精緻鍋物 小火慢燉雞湯底\n",
      "4        Aizan  2019-12-25 19:48:13            [食記] 日本正夯的生食吐司vs台中二家生食吐司\n",
      "5       fatlee  2019-12-25 20:45:41            [食記] 台北大安區龍門國中附近-呂巷仔口麵食館\n",
      "6    gochi2100  2019-12-25 20:47:37             [食記] 台中 俺の食堂 板前燒肉一徹中午定食\n",
      "7    gochi2100  2019-12-25 20:47:57                    [食記] 台中 KoDo和牛燒肉\n",
      "8        CYoYu  2019-12-25 21:25:07            [食記] 澳門 勝哥私房菜：傳說中的一甲子功夫菜\n",
      "9    oldfather  2019-12-25 21:42:54         [食記] 台南 H&H 他她 巷弄內超迷你 文青早午餐\n",
      "10    thudadai  2019-12-25 22:00:09                   [食記] 台北中山 創作拉麵 悠然\n",
      "11   orion2588  2019-12-25 22:14:48              [食記] 台北中山 雞家莊 六條店 經典台菜\n",
      "12      hwatai  2019-12-25 22:29:20    [食記] 台北南港 CITYLINK WIRED CHAYA茶屋\n",
      "13    KUNI0202  2019-12-25 22:48:30              [食記] 桃園 涮乃葉：近期內最常造訪的鍋物\n",
      "14  Geiwoyujie  2019-12-25 23:01:43           [食記] 阿玉水餃 台北 新鮮美味又多汁 現包水餃\n",
      "15     smallta  2019-12-25 23:03:27                     [食記] 釜山 南浦 紅豆粥街\n",
      "16    Sanchers  2019-12-25 23:18:06             [食記] 台北大安 阿英台灣小吃 中瘋滷肉飯 \n",
      "17   changfong  2019-12-25 23:30:48                      [食記] 台南 邱家小卷米粉\n",
      "18   micoberry  2019-12-26 00:10:04  [食記] 美國 紐約 牛角Gyu-Kaku Japanese BBQ\n",
      "19    dodojohn  2019-12-26 00:14:23         [食記] 日本京都 高安拉麵~炸雞比拉麵還美味的人氣店\n"
     ]
    }
   ],
   "source": [
    "#ptt food\n",
    "count=0\n",
    "link='https://www.ptt.cc/bbs/Food/index.html'\n",
    "while count<2:\n",
    "    link=PageData(link) \n",
    "    count+=1"
   ]
  },
  {
   "cell_type": "code",
   "execution_count": null,
   "metadata": {},
   "outputs": [],
   "source": []
  }
 ],
 "metadata": {
  "kernelspec": {
   "display_name": "Python 3",
   "language": "python",
   "name": "python3"
  },
  "language_info": {
   "codemirror_mode": {
    "name": "ipython",
    "version": 3
   },
   "file_extension": ".py",
   "mimetype": "text/x-python",
   "name": "python",
   "nbconvert_exporter": "python",
   "pygments_lexer": "ipython3",
   "version": "3.7.4"
  }
 },
 "nbformat": 4,
 "nbformat_minor": 2
}
