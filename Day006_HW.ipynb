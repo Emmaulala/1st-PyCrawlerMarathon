{
 "cells": [
  {
   "cell_type": "markdown",
   "metadata": {},
   "source": [
    "# API 資料串接 - 以 知乎 API 實作範例\n",
    "\n",
    "\n",
    "\n",
    "* 了解知乎 API 使用方式與回傳內容\n",
    "* 撰寫程式存取 API 且添加標頭\n",
    "\n",
    "\n"
   ]
  },
  {
   "cell_type": "markdown",
   "metadata": {},
   "source": [
    "## 作業目標\n",
    "\n",
    "* 根據範例提供的 API ，完成以下問題：\n",
    "\n",
    "    1. 取出知乎問題發問時間\n",
    "    2. 取出第一筆與最後一筆回答的時間\n"
   ]
  },
  {
   "cell_type": "markdown",
   "metadata": {},
   "source": [
    "### 1. 取出知乎問題發問時間"
   ]
  },
  {
   "cell_type": "code",
   "execution_count": 5,
   "metadata": {},
   "outputs": [
    {
     "data": {
      "text/plain": [
       "'{\"data\":[{\"id\":683070334,\"type\":\"answer\",\"answer_type\":\"normal\",\"question\":{\"type\":\"question\",\"id\":55493026,\"title\":\"你们都是怎么学 Python 的？\",\"question_type\":\"normal\",\"created\":1486390229,\"updated_time\":1543075931,\"url\":\"https://www.zhihu.com/api/v4/questions/55493026\",\"relationship\":{}},\"author\":{\"id\":\"36f69162230003d316d0b8a6d8da20ba\",\"url_token\":\"liang-zi-wei-48\",\"name\":\"量子位\",\"avatar_url\":\"https://pic4.zhimg.com/v2-ca6e7ffc10a0d10edbae635cee82d007_is.jpg\",\"avatar_url_template\":\"https://pic4.zhimg.com/v2-ca6e7ffc10a0d10edbae635cee82d007_{size}.jpg\",\"is_org\":true,\"type\":\"people\",\"url\":\"https://www.zhihu.com/api/v4/people/36f69162230003d316d0b8a6d8da20ba\",\"user_type\":\"organization\",\"headline\":\"有趣的前沿科技→_→ 公众号：QbitAI\",\"badge\":[{\"type\":\"identity\",\"description\":\"已认证的官方帐号\",\"topics\":[]},{\"type\":\"best_answerer\",\"description\":\"优秀回答者\",\"topics\":[]}],\"gender\":-1,\"is_advertiser\":false,\"is_privacy\":false},\"url\":\"https://www.zhihu.com/api/v4/answers/683070334\",\"is_collapsed\":false,\"created_time\":1557824412,\"updated_time\":1557824412,\"extras\":\"\",\"is_copyable\":true,\"relationship\":{\"upvoted_followees\":[]}},{\"id\":637938925,\"type\":\"answer\",\"answer_type\":\"normal\",\"question\":{\"type\":\"question\",\"id\":55493026,\"title\":\"你们都是怎么学 Python 的？\",\"question_type\":\"normal\",\"created\":1486390229,\"updated_time\":1543075931,\"url\":\"https://www.zhihu.com/api/v4/questions/55493026\",\"relationship\":{}},\"author\":{\"id\":\"e8c4768eaa41e3749f7e8bc5ac6aa74b\",\"url_token\":\"Lanyuneet\",\"name\":\"Slumbers\",\"avatar_url\":\"https://pic4.zhimg.com/v2-314544f90f2a16f9ed161dc6ab6d00ed_is.jpg\",\"avatar_url_template\":\"https://pic4.zhimg.com/v2-314544f90f2a16f9ed161dc6ab6d00ed_{size}.jpg\",\"is_org\":false,\"type\":\"people\",\"url\":\"https://www.zhihu.com/api/v4/people/e8c4768eaa41e3749f7e8bc5ac6aa74b\",\"user_type\":\"people\",\"headline\":\"算法工程师\",\"badge\":[],\"gender\":0,\"is_advertiser\":false,\"is_privacy\":false},\"url\":\"https://www.zhihu.com/api/v4/answers/637938925\",\"is_collapsed\":false,\"created_time\":1554085028,\"updated_time\":1558451618,\"extras\":\"\",\"is_copyable\":true,\"relationship\":{\"upvoted_followees\":[]}},{\"id\":163642949,\"type\":\"answer\",\"answer_type\":\"normal\",\"question\":{\"type\":\"question\",\"id\":55493026,\"title\":\"你们都是怎么学 Python 的？\",\"question_type\":\"normal\",\"created\":1486390229,\"updated_time\":1543075931,\"url\":\"https://www.zhihu.com/api/v4/questions/55493026\",\"relationship\":{}},\"author\":{\"id\":\"788f207a6bf8f66c5bad79bd0f011065\",\"url_token\":\"simonlearn\",\"name\":\"赛门喵Simon\",\"avatar_url\":\"https://pic2.zhimg.com/v2-03afe381dbea789c0f918d6aac15556c_is.jpg\",\"avatar_url_template\":\"https://pic2.zhimg.com/v2-03afe381dbea789c0f918d6aac15556c_{size}.jpg\",\"is_org\":false,\"type\":\"people\",\"url\":\"https://www.zhihu.com/api/v4/people/788f207a6bf8f66c5bad79bd0f011065\",\"user_type\":\"people\",\"headline\":\"英语公众号「赛门喵Simon」，不关注你会后悔。\",\"badge\":[{\"type\":\"identity\",\"description\":\"新加坡南洋理工大学 电气工程博士\",\"topics\":[]}],\"gender\":1,\"is_advertiser\":false,\"is_privacy\":false},\"url\":\"https://www.zhihu.com/api/v4/answers/163642949\",\"is_collapsed\":false,\"created_time\":1493707703,\"updated_time\":1493708357,\"extras\":\"\",\"is_copyable\":false,\"relationship\":{\"upvoted_followees\":[]}},{\"id\":163537026,\"type\":\"answer\",\"answer_type\":\"normal\",\"question\":{\"type\":\"question\",\"id\":55493026,\"title\":\"你们都是怎么学 Python 的？\",\"question_type\":\"normal\",\"created\":1486390229,\"updated_time\":1543075931,\"url\":\"https://www.zhihu.com/api/v4/questions/55493026\",\"relationship\":{}},\"author\":{\"id\":\"eaf435b228ce0b038a4afe8203f59b49\",\"url_token\":\"sgai\",\"name\":\"路人甲\",\"avatar_url\":\"https://pic3.zhimg.com/958a18f3216805bed269d158fb83325a_is.jpg\",\"avatar_url_template\":\"https://pic3.zhimg.com/958a18f3216805bed269d158fb83325a_{size}.jpg\",\"is_org\":false,\"type\":\"people\",\"url\":\"https://www.zhihu.com/api/v4/people/eaf435b228ce0b038a4afe8203f59b49\",\"user_type\":\"people\",\"headline\":\"微信公众号：路人甲TM，微信：thisnozy\",\"badge\":[],\"gender\":1,\"is_advertiser\":false,\"is_privacy\":false},\"url\":\"https://www.zhihu.com/api/v4/answers/163537026\",\"is_collapsed\":false,\"created_time\":1493693113,\"updated_time\":1555137867,\"extras\":\"\",\"is_copyable\":true,\"relationship\":{\"upvoted_followees\":[]}},{\"id\":873825546,\"type\":\"answer\",\"answer_type\":\"normal\",\"question\":{\"type\":\"question\",\"id\":55493026,\"title\":\"你们都是怎么学 Python 的？\",\"question_type\":\"normal\",\"created\":1486390229,\"updated_time\":1543075931,\"url\":\"https://www.zhihu.com/api/v4/questions/55493026\",\"relationship\":{}},\"author\":{\"id\":\"4d1c2c77bc7431c2a6006d154198e8b9\",\"url_token\":\"ji-de-yao-xing-fu\",\"name\":\"痴海\",\"avatar_url\":\"https://pic3.zhimg.com/v2-f9642b41b7729c029c6c7978c4c019e8_is.jpg\",\"avatar_url_template\":\"https://pic3.zhimg.com/v2-f9642b41b7729c029c6c7978c4c019e8_{size}.jpg\",\"is_org\":false,\"type\":\"people\",\"url\":\"https://www.zhihu.com/api/v4/people/4d1c2c77bc7431c2a6006d154198e8b9\",\"user_type\":\"people\",\"headline\":\"公众号「痴海」: 一起向上成长，成为一个厉害的人\",\"badge\":[],\"gender\":1,\"is_advertiser\":false,\"is_privacy\":false},\"url\":\"https://www.zhihu.com/api/v4/answers/873825546\",\"is_collapsed\":false,\"created_time\":1572318426,\"updated_time\":1574756054,\"extras\":\"\",\"is_copyable\":false,\"relationship\":{\"upvoted_followees\":[]}}],\"paging\":{\"is_end\":false,\"is_start\":true,\"next\":\"https://www.zhihu.com/api/v4/questions/55493026/answers?limit=5\\\\u0026offset=5\",\"previous\":\"https://www.zhihu.com/api/v4/questions/55493026/answers?limit=5\\\\u0026offset=0\",\"totals\":505}}\\n'"
      ]
     },
     "execution_count": 5,
     "metadata": {},
     "output_type": "execute_result"
    }
   ],
   "source": [
    "# 1. 取出知乎問題發問時間\n",
    "import requests\n",
    "r=requests.get('https://www.zhihu.com/api/v4/questions/55493026/answers',\n",
    "               headers={'user-agent':'Mozilla/5.0 (Windows NT 10.0; Win64; x64) AppleWebKit/537.36 (KHTML, like Gecko) Chrome/79.0.3945.79 Safari/537.36'})\n",
    "r.text#需加入headers資訊使程式看起來像正常使用者"
   ]
  },
  {
   "cell_type": "code",
   "execution_count": 30,
   "metadata": {},
   "outputs": [
    {
     "name": "stdout",
     "output_type": "stream",
     "text": [
      "{'id': 683070334, 'type': 'answer', 'answer_type': 'normal', 'question': {'type': 'question', 'id': 55493026, 'title': '你们都是怎么学 Python 的？', 'question_type': 'normal', 'created': 1486390229, 'updated_time': 1543075931, 'url': 'https://www.zhihu.com/api/v4/questions/55493026', 'relationship': {}}, 'author': {'id': '36f69162230003d316d0b8a6d8da20ba', 'url_token': 'liang-zi-wei-48', 'name': '量子位', 'avatar_url': 'https://pic4.zhimg.com/v2-ca6e7ffc10a0d10edbae635cee82d007_is.jpg', 'avatar_url_template': 'https://pic4.zhimg.com/v2-ca6e7ffc10a0d10edbae635cee82d007_{size}.jpg', 'is_org': True, 'type': 'people', 'url': 'https://www.zhihu.com/api/v4/people/36f69162230003d316d0b8a6d8da20ba', 'user_type': 'organization', 'headline': '有趣的前沿科技→_→ 公众号：QbitAI', 'badge': [{'type': 'identity', 'description': '已认证的官方帐号', 'topics': []}, {'type': 'best_answerer', 'description': '优秀回答者', 'topics': []}], 'gender': -1, 'is_advertiser': False, 'is_privacy': False}, 'url': 'https://www.zhihu.com/api/v4/answers/683070334', 'is_collapsed': False, 'created_time': 1557824412, 'updated_time': 1557824412, 'extras': '', 'is_copyable': True, 'relationship': {'upvoted_followees': []}}\n",
      "{'id': 637938925, 'type': 'answer', 'answer_type': 'normal', 'question': {'type': 'question', 'id': 55493026, 'title': '你们都是怎么学 Python 的？', 'question_type': 'normal', 'created': 1486390229, 'updated_time': 1543075931, 'url': 'https://www.zhihu.com/api/v4/questions/55493026', 'relationship': {}}, 'author': {'id': 'e8c4768eaa41e3749f7e8bc5ac6aa74b', 'url_token': 'Lanyuneet', 'name': 'Slumbers', 'avatar_url': 'https://pic4.zhimg.com/v2-314544f90f2a16f9ed161dc6ab6d00ed_is.jpg', 'avatar_url_template': 'https://pic4.zhimg.com/v2-314544f90f2a16f9ed161dc6ab6d00ed_{size}.jpg', 'is_org': False, 'type': 'people', 'url': 'https://www.zhihu.com/api/v4/people/e8c4768eaa41e3749f7e8bc5ac6aa74b', 'user_type': 'people', 'headline': '算法工程师', 'badge': [], 'gender': 0, 'is_advertiser': False, 'is_privacy': False}, 'url': 'https://www.zhihu.com/api/v4/answers/637938925', 'is_collapsed': False, 'created_time': 1554085028, 'updated_time': 1558451618, 'extras': '', 'is_copyable': True, 'relationship': {'upvoted_followees': []}}\n",
      "{'id': 163642949, 'type': 'answer', 'answer_type': 'normal', 'question': {'type': 'question', 'id': 55493026, 'title': '你们都是怎么学 Python 的？', 'question_type': 'normal', 'created': 1486390229, 'updated_time': 1543075931, 'url': 'https://www.zhihu.com/api/v4/questions/55493026', 'relationship': {}}, 'author': {'id': '788f207a6bf8f66c5bad79bd0f011065', 'url_token': 'simonlearn', 'name': '赛门喵Simon', 'avatar_url': 'https://pic2.zhimg.com/v2-03afe381dbea789c0f918d6aac15556c_is.jpg', 'avatar_url_template': 'https://pic2.zhimg.com/v2-03afe381dbea789c0f918d6aac15556c_{size}.jpg', 'is_org': False, 'type': 'people', 'url': 'https://www.zhihu.com/api/v4/people/788f207a6bf8f66c5bad79bd0f011065', 'user_type': 'people', 'headline': '英语公众号「赛门喵Simon」，不关注你会后悔。', 'badge': [{'type': 'identity', 'description': '新加坡南洋理工大学 电气工程博士', 'topics': []}], 'gender': 1, 'is_advertiser': False, 'is_privacy': False}, 'url': 'https://www.zhihu.com/api/v4/answers/163642949', 'is_collapsed': False, 'created_time': 1493707703, 'updated_time': 1493708357, 'extras': '', 'is_copyable': False, 'relationship': {'upvoted_followees': []}}\n",
      "{'id': 163537026, 'type': 'answer', 'answer_type': 'normal', 'question': {'type': 'question', 'id': 55493026, 'title': '你们都是怎么学 Python 的？', 'question_type': 'normal', 'created': 1486390229, 'updated_time': 1543075931, 'url': 'https://www.zhihu.com/api/v4/questions/55493026', 'relationship': {}}, 'author': {'id': 'eaf435b228ce0b038a4afe8203f59b49', 'url_token': 'sgai', 'name': '路人甲', 'avatar_url': 'https://pic3.zhimg.com/958a18f3216805bed269d158fb83325a_is.jpg', 'avatar_url_template': 'https://pic3.zhimg.com/958a18f3216805bed269d158fb83325a_{size}.jpg', 'is_org': False, 'type': 'people', 'url': 'https://www.zhihu.com/api/v4/people/eaf435b228ce0b038a4afe8203f59b49', 'user_type': 'people', 'headline': '微信公众号：路人甲TM，微信：thisnozy', 'badge': [], 'gender': 1, 'is_advertiser': False, 'is_privacy': False}, 'url': 'https://www.zhihu.com/api/v4/answers/163537026', 'is_collapsed': False, 'created_time': 1493693113, 'updated_time': 1555137867, 'extras': '', 'is_copyable': True, 'relationship': {'upvoted_followees': []}}\n",
      "{'id': 873825546, 'type': 'answer', 'answer_type': 'normal', 'question': {'type': 'question', 'id': 55493026, 'title': '你们都是怎么学 Python 的？', 'question_type': 'normal', 'created': 1486390229, 'updated_time': 1543075931, 'url': 'https://www.zhihu.com/api/v4/questions/55493026', 'relationship': {}}, 'author': {'id': '4d1c2c77bc7431c2a6006d154198e8b9', 'url_token': 'ji-de-yao-xing-fu', 'name': '痴海', 'avatar_url': 'https://pic3.zhimg.com/v2-f9642b41b7729c029c6c7978c4c019e8_is.jpg', 'avatar_url_template': 'https://pic3.zhimg.com/v2-f9642b41b7729c029c6c7978c4c019e8_{size}.jpg', 'is_org': False, 'type': 'people', 'url': 'https://www.zhihu.com/api/v4/people/4d1c2c77bc7431c2a6006d154198e8b9', 'user_type': 'people', 'headline': '公众号「痴海」: 一起向上成长，成为一个厉害的人', 'badge': [], 'gender': 1, 'is_advertiser': False, 'is_privacy': False}, 'url': 'https://www.zhihu.com/api/v4/answers/873825546', 'is_collapsed': False, 'created_time': 1572318426, 'updated_time': 1574756054, 'extras': '', 'is_copyable': False, 'relationship': {'upvoted_followees': []}}\n"
     ]
    }
   ],
   "source": [
    "import json\n",
    "data=json.loads(r.text)\n",
    "for d in data['data']:\n",
    "    print(d)"
   ]
  },
  {
   "cell_type": "code",
   "execution_count": 34,
   "metadata": {},
   "outputs": [
    {
     "data": {
      "text/html": [
       "<div>\n",
       "<style scoped>\n",
       "    .dataframe tbody tr th:only-of-type {\n",
       "        vertical-align: middle;\n",
       "    }\n",
       "\n",
       "    .dataframe tbody tr th {\n",
       "        vertical-align: top;\n",
       "    }\n",
       "\n",
       "    .dataframe thead th {\n",
       "        text-align: right;\n",
       "    }\n",
       "</style>\n",
       "<table border=\"1\" class=\"dataframe\">\n",
       "  <thead>\n",
       "    <tr style=\"text-align: right;\">\n",
       "      <th></th>\n",
       "      <th>id</th>\n",
       "      <th>type</th>\n",
       "      <th>answer_type</th>\n",
       "      <th>question</th>\n",
       "      <th>author</th>\n",
       "      <th>url</th>\n",
       "      <th>is_collapsed</th>\n",
       "      <th>created_time</th>\n",
       "      <th>updated_time</th>\n",
       "      <th>extras</th>\n",
       "      <th>is_copyable</th>\n",
       "      <th>relationship</th>\n",
       "    </tr>\n",
       "  </thead>\n",
       "  <tbody>\n",
       "    <tr>\n",
       "      <td>0</td>\n",
       "      <td>683070334</td>\n",
       "      <td>answer</td>\n",
       "      <td>normal</td>\n",
       "      <td>{'type': 'question', 'id': 55493026, 'title': ...</td>\n",
       "      <td>{'id': '36f69162230003d316d0b8a6d8da20ba', 'ur...</td>\n",
       "      <td>https://www.zhihu.com/api/v4/answers/683070334</td>\n",
       "      <td>False</td>\n",
       "      <td>1557824412</td>\n",
       "      <td>1557824412</td>\n",
       "      <td></td>\n",
       "      <td>True</td>\n",
       "      <td>{'upvoted_followees': []}</td>\n",
       "    </tr>\n",
       "    <tr>\n",
       "      <td>1</td>\n",
       "      <td>637938925</td>\n",
       "      <td>answer</td>\n",
       "      <td>normal</td>\n",
       "      <td>{'type': 'question', 'id': 55493026, 'title': ...</td>\n",
       "      <td>{'id': 'e8c4768eaa41e3749f7e8bc5ac6aa74b', 'ur...</td>\n",
       "      <td>https://www.zhihu.com/api/v4/answers/637938925</td>\n",
       "      <td>False</td>\n",
       "      <td>1554085028</td>\n",
       "      <td>1558451618</td>\n",
       "      <td></td>\n",
       "      <td>True</td>\n",
       "      <td>{'upvoted_followees': []}</td>\n",
       "    </tr>\n",
       "    <tr>\n",
       "      <td>2</td>\n",
       "      <td>163642949</td>\n",
       "      <td>answer</td>\n",
       "      <td>normal</td>\n",
       "      <td>{'type': 'question', 'id': 55493026, 'title': ...</td>\n",
       "      <td>{'id': '788f207a6bf8f66c5bad79bd0f011065', 'ur...</td>\n",
       "      <td>https://www.zhihu.com/api/v4/answers/163642949</td>\n",
       "      <td>False</td>\n",
       "      <td>1493707703</td>\n",
       "      <td>1493708357</td>\n",
       "      <td></td>\n",
       "      <td>False</td>\n",
       "      <td>{'upvoted_followees': []}</td>\n",
       "    </tr>\n",
       "    <tr>\n",
       "      <td>3</td>\n",
       "      <td>163537026</td>\n",
       "      <td>answer</td>\n",
       "      <td>normal</td>\n",
       "      <td>{'type': 'question', 'id': 55493026, 'title': ...</td>\n",
       "      <td>{'id': 'eaf435b228ce0b038a4afe8203f59b49', 'ur...</td>\n",
       "      <td>https://www.zhihu.com/api/v4/answers/163537026</td>\n",
       "      <td>False</td>\n",
       "      <td>1493693113</td>\n",
       "      <td>1555137867</td>\n",
       "      <td></td>\n",
       "      <td>True</td>\n",
       "      <td>{'upvoted_followees': []}</td>\n",
       "    </tr>\n",
       "    <tr>\n",
       "      <td>4</td>\n",
       "      <td>873825546</td>\n",
       "      <td>answer</td>\n",
       "      <td>normal</td>\n",
       "      <td>{'type': 'question', 'id': 55493026, 'title': ...</td>\n",
       "      <td>{'id': '4d1c2c77bc7431c2a6006d154198e8b9', 'ur...</td>\n",
       "      <td>https://www.zhihu.com/api/v4/answers/873825546</td>\n",
       "      <td>False</td>\n",
       "      <td>1572318426</td>\n",
       "      <td>1574756054</td>\n",
       "      <td></td>\n",
       "      <td>False</td>\n",
       "      <td>{'upvoted_followees': []}</td>\n",
       "    </tr>\n",
       "  </tbody>\n",
       "</table>\n",
       "</div>"
      ],
      "text/plain": [
       "          id    type answer_type  \\\n",
       "0  683070334  answer      normal   \n",
       "1  637938925  answer      normal   \n",
       "2  163642949  answer      normal   \n",
       "3  163537026  answer      normal   \n",
       "4  873825546  answer      normal   \n",
       "\n",
       "                                            question  \\\n",
       "0  {'type': 'question', 'id': 55493026, 'title': ...   \n",
       "1  {'type': 'question', 'id': 55493026, 'title': ...   \n",
       "2  {'type': 'question', 'id': 55493026, 'title': ...   \n",
       "3  {'type': 'question', 'id': 55493026, 'title': ...   \n",
       "4  {'type': 'question', 'id': 55493026, 'title': ...   \n",
       "\n",
       "                                              author  \\\n",
       "0  {'id': '36f69162230003d316d0b8a6d8da20ba', 'ur...   \n",
       "1  {'id': 'e8c4768eaa41e3749f7e8bc5ac6aa74b', 'ur...   \n",
       "2  {'id': '788f207a6bf8f66c5bad79bd0f011065', 'ur...   \n",
       "3  {'id': 'eaf435b228ce0b038a4afe8203f59b49', 'ur...   \n",
       "4  {'id': '4d1c2c77bc7431c2a6006d154198e8b9', 'ur...   \n",
       "\n",
       "                                              url  is_collapsed  created_time  \\\n",
       "0  https://www.zhihu.com/api/v4/answers/683070334         False    1557824412   \n",
       "1  https://www.zhihu.com/api/v4/answers/637938925         False    1554085028   \n",
       "2  https://www.zhihu.com/api/v4/answers/163642949         False    1493707703   \n",
       "3  https://www.zhihu.com/api/v4/answers/163537026         False    1493693113   \n",
       "4  https://www.zhihu.com/api/v4/answers/873825546         False    1572318426   \n",
       "\n",
       "   updated_time extras  is_copyable               relationship  \n",
       "0    1557824412                True  {'upvoted_followees': []}  \n",
       "1    1558451618                True  {'upvoted_followees': []}  \n",
       "2    1493708357               False  {'upvoted_followees': []}  \n",
       "3    1555137867                True  {'upvoted_followees': []}  \n",
       "4    1574756054               False  {'upvoted_followees': []}  "
      ]
     },
     "execution_count": 34,
     "metadata": {},
     "output_type": "execute_result"
    }
   ],
   "source": [
    "import pandas\n",
    "pandas.DataFrame(data['data'])\n"
   ]
  },
  {
   "cell_type": "code",
   "execution_count": 50,
   "metadata": {},
   "outputs": [
    {
     "name": "stdout",
     "output_type": "stream",
     "text": [
      "問題發問時間: 2017-02-06 22:10:29\n"
     ]
    }
   ],
   "source": [
    "import time\n",
    "datadict=dataframe['question']#question欄位內容為字典(每列內容都一樣)\n",
    "time_ask=datadict[0]['created']#取其中一列的問題發問時間(取哪列都一樣)\n",
    "timeask=time.localtime(time_ask)#以localtime()將時間戳轉成日期&時間\n",
    "answer=time.strftime('%Y-%m-%d %H:%M:%S',timeask)#以strftime()格式化時間\n",
    "print('問題發問時間:',answer)"
   ]
  },
  {
   "cell_type": "markdown",
   "metadata": {},
   "source": [
    "### 2. 取出第一筆與最後一筆回答的時間"
   ]
  },
  {
   "cell_type": "code",
   "execution_count": 79,
   "metadata": {},
   "outputs": [
    {
     "name": "stdout",
     "output_type": "stream",
     "text": [
      "2019-05-14 17:00:12\n",
      "2019-04-01 10:17:08\n",
      "2017-05-02 14:48:23\n",
      "2017-05-02 10:45:13\n",
      "2019-10-29 11:07:06\n",
      "第一筆回答時間: 2019-05-14 17:00:12\n",
      "最後一筆回答時間: 2019-10-29 11:07:06\n"
     ]
    }
   ],
   "source": [
    "# 2. 取出第一筆與最後一筆回答的時間\n",
    "dataframe['created_time'].size #有五列回答\n",
    "def createdtime(n):\n",
    "    time1=data['data'][n]['created_time']#注意變數不能假設和模組同名\n",
    "    date=time.localtime(time1)\n",
    "    answer=time.strftime('%Y-%m-%d %H:%M:%S',date)\n",
    "    print(answer)\n",
    "    return answer #記得return函式才有回傳值\n",
    "\n",
    "for n in range(0,5):\n",
    "    createdtime(n)\n",
    "\n",
    "print('第一筆回答時間:',a)\n",
    "print('最後一筆回答時間:',b)"
   ]
  },
  {
   "cell_type": "code",
   "execution_count": null,
   "metadata": {},
   "outputs": [],
   "source": []
  },
  {
   "cell_type": "code",
   "execution_count": null,
   "metadata": {},
   "outputs": [],
   "source": []
  },
  {
   "cell_type": "code",
   "execution_count": null,
   "metadata": {},
   "outputs": [],
   "source": []
  }
 ],
 "metadata": {
  "kernelspec": {
   "display_name": "Python 3",
   "language": "python",
   "name": "python3"
  },
  "language_info": {
   "codemirror_mode": {
    "name": "ipython",
    "version": 3
   },
   "file_extension": ".py",
   "mimetype": "text/x-python",
   "name": "python",
   "nbconvert_exporter": "python",
   "pygments_lexer": "ipython3",
   "version": "3.7.4"
  }
 },
 "nbformat": 4,
 "nbformat_minor": 2
}
